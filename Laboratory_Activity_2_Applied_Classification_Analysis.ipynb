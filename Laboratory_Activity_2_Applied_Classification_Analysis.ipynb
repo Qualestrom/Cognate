{
  "cells": [
    {
      "cell_type": "markdown",
      "metadata": {
        "id": "view-in-github",
        "colab_type": "text"
      },
      "source": [
        "<a href=\"https://colab.research.google.com/github/Qualestrom/Cognate/blob/main/Laboratory_Activity_2_Applied_Classification_Analysis.ipynb\" target=\"_parent\"><img src=\"https://colab.research.google.com/assets/colab-badge.svg\" alt=\"Open In Colab\"/></a>"
      ]
    },
    {
      "cell_type": "markdown",
      "source": [
        "#**Group Name: \"    \"**\n",
        "###Member 1:\n",
        "###SR Code:\n",
        "\n",
        "###Member 2:\n",
        "###SR Code:"
      ],
      "metadata": {
        "id": "jOHEiMvdEZV4"
      }
    },
    {
      "cell_type": "markdown",
      "metadata": {
        "id": "3SPtl99elewM"
      },
      "source": [
        "# **Laboratory Activity 2: Applied Classification Analysis**"
      ]
    },
    {
      "cell_type": "markdown",
      "metadata": {
        "id": "h_QWpWiVlQQe"
      },
      "source": [
        "**In this laboratory we will create an classification algorithm for our gathered classification datasets.**\n",
        "\n",
        "\n",
        "**Dataset Link:** \"Insert Here\""
      ]
    },
    {
      "cell_type": "markdown",
      "source": [
        "#**Description of the dataset**"
      ],
      "metadata": {
        "id": "JHIMu0X8ELqm"
      }
    },
    {
      "cell_type": "markdown",
      "source": [
        "Insert Here: \"The Description of the dataset\""
      ],
      "metadata": {
        "id": "Jn1G71UuERli"
      }
    },
    {
      "cell_type": "markdown",
      "metadata": {
        "id": "CUGXIblClFZm"
      },
      "source": [
        "# **Import the Required Packages**\n",
        "\n",
        "For this exercise we will require the Pandas package for loading the data, the matplotlib package for plotting as well as scitkit-learn for creating the Classification model. Import all of the required packages and relevant modules for these tasks."
      ]
    },
    {
      "cell_type": "code",
      "execution_count": null,
      "metadata": {
        "id": "t5crLlhelL-5"
      },
      "outputs": [],
      "source": [
        "import pandas as pd\n",
        "import matplotlib.pyplot as plt\n",
        "from sklearn.linear_model import LogisticRegression"
      ]
    },
    {
      "cell_type": "code",
      "execution_count": null,
      "metadata": {
        "id": "WKZxXIy8ka9P"
      },
      "outputs": [],
      "source": [
        "import numpy as np\n",
        "from array import array\n",
        "from sklearn.preprocessing import LabelEncoder, StandardScaler, OneHotEncoder"
      ]
    },
    {
      "cell_type": "markdown",
      "metadata": {
        "id": "5eA6sp6KlWbE"
      },
      "source": [
        "# **Read the Data**\n"
      ]
    },
    {
      "cell_type": "code",
      "execution_count": null,
      "metadata": {
        "id": "kVC7C5DUl0Vs"
      },
      "outputs": [],
      "source": []
    },
    {
      "cell_type": "markdown",
      "metadata": {
        "id": "2P9sWcipAyU9"
      },
      "source": [
        "## **Read the data and find summary statistics**\n"
      ]
    },
    {
      "cell_type": "markdown",
      "source": [
        "Get the info of your dataset"
      ],
      "metadata": {
        "id": "apfmby92BK2m"
      }
    },
    {
      "cell_type": "code",
      "source": [],
      "metadata": {
        "id": "q2mG6Pb0BO47"
      },
      "execution_count": null,
      "outputs": []
    },
    {
      "cell_type": "markdown",
      "source": [
        "Get the first five and last five of your dataset"
      ],
      "metadata": {
        "id": "GM-wioUoBPNK"
      }
    },
    {
      "cell_type": "code",
      "source": [],
      "metadata": {
        "id": "6G4fAXrwBR-h"
      },
      "execution_count": null,
      "outputs": []
    },
    {
      "cell_type": "markdown",
      "source": [
        "Get the summary statistics of your dataset to show the total cont, mean, standard deviation, min and max value, and percentiles of each column of your dataset."
      ],
      "metadata": {
        "id": "AFqdmCutBSP5"
      }
    },
    {
      "cell_type": "code",
      "source": [],
      "metadata": {
        "id": "hbFbvke4BZ7i"
      },
      "execution_count": null,
      "outputs": []
    },
    {
      "cell_type": "markdown",
      "metadata": {
        "id": "F26jVsGgBbiz"
      },
      "source": [
        "# **Data Cleaning**\n"
      ]
    },
    {
      "cell_type": "markdown",
      "source": [
        "Visualize the missing values/data in your dataset to see how many data and percentage of data are missing in each column of your dataset."
      ],
      "metadata": {
        "id": "5QusTJpRBhzW"
      }
    },
    {
      "cell_type": "code",
      "source": [],
      "metadata": {
        "id": "Hp9Xr0CxBgeV"
      },
      "execution_count": null,
      "outputs": []
    },
    {
      "cell_type": "markdown",
      "source": [
        "Use a nullity matrix for your dataset for easy visualization of missing data"
      ],
      "metadata": {
        "id": "HNXFCCnHBhMu"
      }
    },
    {
      "cell_type": "code",
      "source": [],
      "metadata": {
        "id": "FQ0_mBwDCc2F"
      },
      "execution_count": null,
      "outputs": []
    },
    {
      "cell_type": "markdown",
      "metadata": {
        "id": "PQB-jhAvCgj0"
      },
      "source": [
        "# **Imputation of data to missing data**\n"
      ]
    },
    {
      "cell_type": "code",
      "source": [
        "#drop data with 80% missing percentage value"
      ],
      "metadata": {
        "id": "WS0MZImpCkIy"
      },
      "execution_count": null,
      "outputs": []
    },
    {
      "cell_type": "code",
      "source": [
        "#dropping or deleting columns that is unnecessary"
      ],
      "metadata": {
        "id": "ZSDh7-taCqE4"
      },
      "execution_count": null,
      "outputs": []
    },
    {
      "cell_type": "markdown",
      "source": [
        "After deleting the columns with 80% missing data. Impute data/value in the missing data of your dataset."
      ],
      "metadata": {
        "id": "RRBwRO5hDIbT"
      }
    },
    {
      "cell_type": "code",
      "source": [],
      "metadata": {
        "id": "3eUIP5zNDPCf"
      },
      "execution_count": null,
      "outputs": []
    },
    {
      "cell_type": "markdown",
      "source": [
        "After imputation of data, Check the completeness of your dataset by getting its info."
      ],
      "metadata": {
        "id": "VmyltvX6DPPN"
      }
    },
    {
      "cell_type": "code",
      "source": [],
      "metadata": {
        "id": "7cDkv8CuDT7m"
      },
      "execution_count": null,
      "outputs": []
    },
    {
      "cell_type": "markdown",
      "metadata": {
        "id": "En_dpu4c-bLm"
      },
      "source": [
        "# **Visualize the Data**\n",
        "Load the dataset using Pandas and plot the different the target category\n",
        "\n",
        "Plot a number of different features vs the allocated species classifications e.g. Sepal Length vs Petal length and Species. Visually inspect the plots and look for any patterns that could indicate separation between each of the species."
      ]
    },
    {
      "cell_type": "code",
      "source": [],
      "metadata": {
        "id": "Dm6VsHrj_frH"
      },
      "execution_count": null,
      "outputs": []
    },
    {
      "cell_type": "markdown",
      "metadata": {
        "id": "HgQfGYCel3NN"
      },
      "source": [
        "# **Preprocessing**\n",
        "# **Feature Engineering**\n",
        "\n",
        "You need to select the most appropriate features that will provide the most powerful classification model.\n",
        "\n"
      ]
    },
    {
      "cell_type": "markdown",
      "source": [
        "Before we can construct the model we must first convert the species values into labels that can be used within the model. Replace:\n",
        "\n",
        "\n",
        "Example:\n",
        "\n",
        "    1. The species string Iris-setosa with the value 0\n",
        "    2. The species string Iris-versicolor with the value 1\n",
        "    3. The species string Iris-virginica with the value 2\n",
        "\n",
        "You can use get_dummies function / OnehotEncoder / LabelEncoder Library / StandardScaler with this."
      ],
      "metadata": {
        "id": "zj6sbobjpVj4"
      }
    },
    {
      "cell_type": "markdown",
      "metadata": {
        "id": "_hsF7w_km3nm"
      },
      "source": [
        "Select the features by writing the column names in the list below:"
      ]
    },
    {
      "cell_type": "code",
      "execution_count": null,
      "metadata": {
        "id": "Rnc3H67Dm5gr"
      },
      "outputs": [],
      "source": [
        "selected_features = [\n",
        "    '', # List features here\n",
        "]"
      ]
    },
    {
      "cell_type": "markdown",
      "metadata": {
        "id": "backvVBLm7eC"
      },
      "source": [
        "# **Constructing Logistic Regression Model**\n",
        "\n"
      ]
    },
    {
      "cell_type": "code",
      "execution_count": null,
      "metadata": {
        "id": "dy5lfo9fnDrn"
      },
      "outputs": [],
      "source": [
        "##Logistic Regression"
      ]
    },
    {
      "cell_type": "markdown",
      "metadata": {
        "id": "EnWTLNNq31bl"
      },
      "source": [
        "Display the prediction for the Logistic model against the training data (First Model)"
      ]
    },
    {
      "cell_type": "code",
      "source": [],
      "metadata": {
        "id": "y6MKOf18oT75"
      },
      "execution_count": null,
      "outputs": []
    },
    {
      "cell_type": "markdown",
      "metadata": {
        "id": "CBB3kWYmnXvQ"
      },
      "source": [
        "Compute the accuracy of the model against the training set"
      ]
    },
    {
      "cell_type": "code",
      "source": [],
      "metadata": {
        "id": "CXqFuDDXoY5j"
      },
      "execution_count": null,
      "outputs": []
    },
    {
      "cell_type": "markdown",
      "metadata": {
        "id": "Il9CuI8D-SpG"
      },
      "source": [
        "# **Construct the K-Nearest Neighbors Model**\n",
        "\n"
      ]
    },
    {
      "cell_type": "code",
      "execution_count": null,
      "metadata": {
        "id": "VOOi67Et-SpG"
      },
      "outputs": [],
      "source": [
        "##Import Required Libraries of KNN here"
      ]
    },
    {
      "cell_type": "markdown",
      "metadata": {
        "id": "vxeiT1jwoPEK"
      },
      "source": [
        "Display the prediction for the KNN model against the training data (Second Model)"
      ]
    },
    {
      "cell_type": "code",
      "source": [],
      "metadata": {
        "id": "n5CmmG8IoPlG"
      },
      "execution_count": null,
      "outputs": []
    },
    {
      "cell_type": "markdown",
      "metadata": {
        "id": "wqTRJJUso0oT"
      },
      "source": [
        "Compute the accuracy of the model against the training set"
      ]
    },
    {
      "cell_type": "code",
      "source": [],
      "metadata": {
        "id": "Mhp8Q8m8o1Bn"
      },
      "execution_count": null,
      "outputs": []
    },
    {
      "cell_type": "markdown",
      "metadata": {
        "id": "pENMKFK6-SpH"
      },
      "source": [
        "# **Constructing Decision Tree Model**\n",
        "\n"
      ]
    },
    {
      "cell_type": "code",
      "execution_count": null,
      "metadata": {
        "id": "0J4t3dIj-SpH"
      },
      "outputs": [],
      "source": [
        "##Decision Tree"
      ]
    },
    {
      "cell_type": "markdown",
      "metadata": {
        "id": "0CJWgvyb4I86"
      },
      "source": [
        "Display the prediction for the Decision Tree model against the training data (Third Model)\n"
      ]
    },
    {
      "cell_type": "code",
      "execution_count": null,
      "metadata": {
        "id": "5ZKRg-1iBo7t"
      },
      "outputs": [],
      "source": []
    },
    {
      "cell_type": "markdown",
      "metadata": {
        "id": "aXRZmGN4q-D6"
      },
      "source": [
        "Compute the accuracy of the model against the training set"
      ]
    },
    {
      "cell_type": "code",
      "execution_count": null,
      "metadata": {
        "id": "ff2Z0pzG4VzW"
      },
      "outputs": [],
      "source": []
    },
    {
      "cell_type": "markdown",
      "source": [
        "# **Results**"
      ],
      "metadata": {
        "id": "TaUHuMTjqexg"
      }
    },
    {
      "cell_type": "markdown",
      "source": [
        "Get the highest model for your dataset using if else condition on every f1 score / accuracy / precision of your model."
      ],
      "metadata": {
        "id": "oQGW3oXtDfMt"
      }
    },
    {
      "cell_type": "code",
      "source": [
        "# Define F1 score, accuracy, and precision for different models\n",
        "# f1_model1 = **\n",
        "# acc_model1 = **\n",
        "# precision_model1 = **\n",
        "\n",
        "#Example:\n",
        "# Compare F1 scores of different models\n",
        "#if f1_model1 > f1_model2 and f1_model1 > f1_model3:\n",
        "#    best_model = \"Model 1\"\n",
        "#elif f1_model2 > f1_model1 and f1_model2 > f1_model3:\n",
        "#    best_model = \"Model 2\"\n",
        "#else:\n",
        "#    best_model = \"Model 3\"\n",
        "\n",
        "# Compare Accuracy scores of different models\n",
        "#if f1_model1 > f1_model2 and f1_model1 > f1_model3:\n",
        "#    best_model = \"Model 1\"\n",
        "#elif f1_model2 > f1_model1 and f1_model2 > f1_model3:\n",
        "#    best_model = \"Model 2\"\n",
        "#else:\n",
        "#    best_model = \"Model 3\"\n",
        "\n",
        "# Compare Precision scores of different models\n",
        "#if f1_model1 > f1_model2 and f1_model1 > f1_model3:\n",
        "#    best_model = \"Model 1\"\n",
        "#elif f1_model2 > f1_model1 and f1_model2 > f1_model3:\n",
        "#    best_model = \"Model 2\"\n",
        "#else:\n",
        "#    best_model = \"Model 3\""
      ],
      "metadata": {
        "id": "XK00dTIbDec7"
      },
      "execution_count": null,
      "outputs": []
    },
    {
      "cell_type": "markdown",
      "metadata": {
        "id": "lrHFalaY4RGK"
      },
      "source": [
        "# **CONCLUSION**\n",
        "Create conclusion and result based on the output of every model."
      ]
    },
    {
      "cell_type": "markdown",
      "metadata": {
        "id": "5yL41F7a4XNM"
      },
      "source": []
    }
  ],
  "metadata": {
    "colab": {
      "provenance": [],
      "include_colab_link": true
    },
    "kernelspec": {
      "display_name": "Python 3",
      "name": "python3"
    },
    "language_info": {
      "name": "python"
    }
  },
  "nbformat": 4,
  "nbformat_minor": 0
}